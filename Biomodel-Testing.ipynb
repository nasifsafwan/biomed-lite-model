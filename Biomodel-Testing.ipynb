{
 "cells": [
  {
   "cell_type": "code",
   "execution_count": 1,
   "id": "31b81462",
   "metadata": {
    "_cell_guid": "b1076dfc-b9ad-4769-8c92-a6c4dae69d19",
    "_uuid": "8f2839f25d086af736a60e9eeb907d3b93b6e0e5",
    "execution": {
     "iopub.execute_input": "2025-09-18T10:29:11.583044Z",
     "iopub.status.busy": "2025-09-18T10:29:11.582672Z",
     "iopub.status.idle": "2025-09-18T10:29:11.589946Z",
     "shell.execute_reply": "2025-09-18T10:29:11.589129Z"
    },
    "papermill": {
     "duration": 0.011216,
     "end_time": "2025-09-18T10:29:11.591054",
     "exception": false,
     "start_time": "2025-09-18T10:29:11.579838",
     "status": "completed"
    },
    "tags": []
   },
   "outputs": [
    {
     "name": "stdout",
     "output_type": "stream",
     "text": [
      "Hello Git.\n"
     ]
    }
   ],
   "source": [
    "print(\"Hello Git.\")"
   ]
  },
  {
   "cell_type": "code",
   "execution_count": null,
   "id": "8aa13dc9",
   "metadata": {
    "papermill": {
     "duration": 0.000917,
     "end_time": "2025-09-18T10:29:11.593284",
     "exception": false,
     "start_time": "2025-09-18T10:29:11.592367",
     "status": "completed"
    },
    "tags": []
   },
   "outputs": [],
   "source": []
  }
 ],
 "metadata": {
  "kaggle": {
   "accelerator": "gpu",
   "dataSources": [],
   "dockerImageVersionId": 31090,
   "isGpuEnabled": true,
   "isInternetEnabled": true,
   "language": "python",
   "sourceType": "notebook"
  },
  "kernelspec": {
   "display_name": "Python 3",
   "language": "python",
   "name": "python3"
  },
  "language_info": {
   "codemirror_mode": {
    "name": "ipython",
    "version": 3
   },
   "file_extension": ".py",
   "mimetype": "text/x-python",
   "name": "python",
   "nbconvert_exporter": "python",
   "pygments_lexer": "ipython3",
   "version": "3.11.13"
  },
  "papermill": {
   "default_parameters": {},
   "duration": 4.824827,
   "end_time": "2025-09-18T10:29:11.911252",
   "environment_variables": {},
   "exception": null,
   "input_path": "__notebook__.ipynb",
   "output_path": "__notebook__.ipynb",
   "parameters": {},
   "start_time": "2025-09-18T10:29:07.086425",
   "version": "2.6.0"
  }
 },
 "nbformat": 4,
 "nbformat_minor": 5
}
